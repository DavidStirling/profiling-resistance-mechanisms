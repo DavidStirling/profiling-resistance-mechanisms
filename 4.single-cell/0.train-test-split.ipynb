{
 "cells": [
  {
   "cell_type": "code",
   "execution_count": 1,
   "metadata": {},
   "outputs": [],
   "source": [
    "import sys\n",
    "import pathlib\n",
    "import sqlite3\n",
    "import pandas as pd\n",
    "from sklearn.preprocessing import StandardScaler\n",
    "from sklearn.model_selection import train_test_split\n",
    "\n",
    "from pycytominer import feature_select\n",
    "from pycytominer.cyto_utils import infer_cp_features\n",
    "\n",
    "from utils.single_cell_utils import process_sites\n",
    "sys.path.append(\"../0.generate-profiles\")\n",
    "from scripts.profile_util import load_config"
   ]
  },
  {
   "cell_type": "code",
   "execution_count": 2,
   "metadata": {},
   "outputs": [],
   "source": [
    "pd.np.random.seed(123)"
   ]
  },
  {
   "cell_type": "code",
   "execution_count": 3,
   "metadata": {},
   "outputs": [],
   "source": [
    "# Set constants\n",
    "batch = \"2019_03_20_Batch2\"\n",
    "plate = \"207106_exposure320\"\n",
    "\n",
    "feature_filter = [\"Object\", \"Location\", \"Count\", \"Parent\"]\n",
    "test_split_prop = 0.15\n",
    "scaler_method = \"standard\"\n",
    "seed = 123\n",
    "\n",
    "feature_select_opts = [\n",
    "    \"variance_threshold\",\n",
    "    \"drop_na_columns\",\n",
    "    \"blacklist\",\n",
    "    \"drop_outliers\",\n",
    "]\n",
    "corr_threshold = 0.8\n",
    "na_cutoff = 0"
   ]
  },
  {
   "cell_type": "code",
   "execution_count": 4,
   "metadata": {},
   "outputs": [],
   "source": [
    "# Load locations of single cell files\n",
    "config = pathlib.Path(\"../0.generate-profiles/profile_config.yaml\")\n",
    "pipeline, single_cell_files = load_config(config, append_sql_prefix=False)"
   ]
  },
  {
   "cell_type": "code",
   "execution_count": 5,
   "metadata": {},
   "outputs": [
    {
     "data": {
      "text/html": [
       "<div>\n",
       "<style scoped>\n",
       "    .dataframe tbody tr th:only-of-type {\n",
       "        vertical-align: middle;\n",
       "    }\n",
       "\n",
       "    .dataframe tbody tr th {\n",
       "        vertical-align: top;\n",
       "    }\n",
       "\n",
       "    .dataframe thead th {\n",
       "        text-align: right;\n",
       "    }\n",
       "</style>\n",
       "<table border=\"1\" class=\"dataframe\">\n",
       "  <thead>\n",
       "    <tr style=\"text-align: right;\">\n",
       "      <th></th>\n",
       "      <th>Assay_Plate_Barcode</th>\n",
       "      <th>Plate_Map_Name</th>\n",
       "      <th>Batch_Number</th>\n",
       "    </tr>\n",
       "  </thead>\n",
       "  <tbody>\n",
       "    <tr>\n",
       "      <th>0</th>\n",
       "      <td>207106_exposure320</td>\n",
       "      <td>PlateMap_207106_exposure320</td>\n",
       "      <td>2</td>\n",
       "    </tr>\n",
       "  </tbody>\n",
       "</table>\n",
       "</div>"
      ],
      "text/plain": [
       "  Assay_Plate_Barcode               Plate_Map_Name  Batch_Number\n",
       "0  207106_exposure320  PlateMap_207106_exposure320             2"
      ]
     },
     "execution_count": 5,
     "metadata": {},
     "output_type": "execute_result"
    }
   ],
   "source": [
    "workspace_dir = pipeline[\"workspace_dir\"]\n",
    "batch_dir = pathlib.Path(workspace_dir, \"backend\", batch)\n",
    "metadata_dir = pathlib.Path(workspace_dir, \"metadata\", batch)\n",
    "\n",
    "barcode_plate_map_file = pathlib.Path(metadata_dir, \"barcode_platemap.csv\")\n",
    "barcode_plate_map_df = pd.read_csv(barcode_plate_map_file)\n",
    "\n",
    "barcode_plate_map_df"
   ]
  },
  {
   "cell_type": "code",
   "execution_count": 6,
   "metadata": {},
   "outputs": [
    {
     "data": {
      "text/html": [
       "<div>\n",
       "<style scoped>\n",
       "    .dataframe tbody tr th:only-of-type {\n",
       "        vertical-align: middle;\n",
       "    }\n",
       "\n",
       "    .dataframe tbody tr th {\n",
       "        vertical-align: top;\n",
       "    }\n",
       "\n",
       "    .dataframe thead th {\n",
       "        text-align: right;\n",
       "    }\n",
       "</style>\n",
       "<table border=\"1\" class=\"dataframe\">\n",
       "  <thead>\n",
       "    <tr style=\"text-align: right;\">\n",
       "      <th></th>\n",
       "      <th>Metadata_plate_map_name</th>\n",
       "      <th>Metadata_well_position</th>\n",
       "      <th>Metadata_CellLine</th>\n",
       "      <th>Metadata_Dosage</th>\n",
       "    </tr>\n",
       "  </thead>\n",
       "  <tbody>\n",
       "    <tr>\n",
       "      <th>0</th>\n",
       "      <td>PlateMap_207106_exposure320</td>\n",
       "      <td>B02</td>\n",
       "      <td>WT</td>\n",
       "      <td>0.0</td>\n",
       "    </tr>\n",
       "    <tr>\n",
       "      <th>1</th>\n",
       "      <td>PlateMap_207106_exposure320</td>\n",
       "      <td>B03</td>\n",
       "      <td>WT</td>\n",
       "      <td>0.0</td>\n",
       "    </tr>\n",
       "    <tr>\n",
       "      <th>2</th>\n",
       "      <td>PlateMap_207106_exposure320</td>\n",
       "      <td>B04</td>\n",
       "      <td>WT</td>\n",
       "      <td>0.0</td>\n",
       "    </tr>\n",
       "    <tr>\n",
       "      <th>3</th>\n",
       "      <td>PlateMap_207106_exposure320</td>\n",
       "      <td>B05</td>\n",
       "      <td>CloneA</td>\n",
       "      <td>0.0</td>\n",
       "    </tr>\n",
       "    <tr>\n",
       "      <th>4</th>\n",
       "      <td>PlateMap_207106_exposure320</td>\n",
       "      <td>B06</td>\n",
       "      <td>CloneA</td>\n",
       "      <td>0.0</td>\n",
       "    </tr>\n",
       "  </tbody>\n",
       "</table>\n",
       "</div>"
      ],
      "text/plain": [
       "       Metadata_plate_map_name Metadata_well_position Metadata_CellLine  \\\n",
       "0  PlateMap_207106_exposure320                    B02                WT   \n",
       "1  PlateMap_207106_exposure320                    B03                WT   \n",
       "2  PlateMap_207106_exposure320                    B04                WT   \n",
       "3  PlateMap_207106_exposure320                    B05            CloneA   \n",
       "4  PlateMap_207106_exposure320                    B06            CloneA   \n",
       "\n",
       "   Metadata_Dosage  \n",
       "0              0.0  \n",
       "1              0.0  \n",
       "2              0.0  \n",
       "3              0.0  \n",
       "4              0.0  "
      ]
     },
     "execution_count": 6,
     "metadata": {},
     "output_type": "execute_result"
    }
   ],
   "source": [
    "plate_map_name = (\n",
    "    barcode_plate_map_df\n",
    "    .query(\"Assay_Plate_Barcode == @plate\")\n",
    "    .Plate_Map_Name\n",
    "    .values[0]\n",
    ")\n",
    "\n",
    "plate_map_file = pathlib.Path(metadata_dir, \"platemap\", f\"{plate_map_name}.txt\")\n",
    "plate_map_df = pd.read_csv(plate_map_file, sep=\"\\t\")\n",
    "plate_map_df.columns = [x if x.startswith(\"Metadata_\") else f\"Metadata_{x}\" for x in plate_map_df.columns]\n",
    "plate_map_df.head()"
   ]
  },
  {
   "cell_type": "markdown",
   "metadata": {},
   "source": [
    "## Setup Single Cell Connection"
   ]
  },
  {
   "cell_type": "code",
   "execution_count": 7,
   "metadata": {},
   "outputs": [],
   "source": [
    "plate_column = pipeline[\"aggregate\"][\"plate_column\"]\n",
    "well_column = pipeline[\"aggregate\"][\"well_column\"]"
   ]
  },
  {
   "cell_type": "code",
   "execution_count": 8,
   "metadata": {},
   "outputs": [],
   "source": [
    "# Establish connection to sqlite file\n",
    "single_cell_sqlite = single_cell_files[batch][\"plates\"][plate]\n",
    "conn = sqlite3.connect(single_cell_sqlite)"
   ]
  },
  {
   "cell_type": "code",
   "execution_count": 9,
   "metadata": {},
   "outputs": [
    {
     "name": "stdout",
     "output_type": "stream",
     "text": [
      "(324, 7)\n"
     ]
    },
    {
     "data": {
      "text/html": [
       "<div>\n",
       "<style scoped>\n",
       "    .dataframe tbody tr th:only-of-type {\n",
       "        vertical-align: middle;\n",
       "    }\n",
       "\n",
       "    .dataframe tbody tr th {\n",
       "        vertical-align: top;\n",
       "    }\n",
       "\n",
       "    .dataframe thead th {\n",
       "        text-align: right;\n",
       "    }\n",
       "</style>\n",
       "<table border=\"1\" class=\"dataframe\">\n",
       "  <thead>\n",
       "    <tr style=\"text-align: right;\">\n",
       "      <th></th>\n",
       "      <th>TableNumber</th>\n",
       "      <th>ImageNumber</th>\n",
       "      <th>Metadata_Plate</th>\n",
       "      <th>Metadata_Well</th>\n",
       "      <th>Metadata_plate_map_name</th>\n",
       "      <th>Metadata_CellLine</th>\n",
       "      <th>Metadata_Dosage</th>\n",
       "    </tr>\n",
       "  </thead>\n",
       "  <tbody>\n",
       "    <tr>\n",
       "      <th>0</th>\n",
       "      <td>35063824554719371464203761079871132620</td>\n",
       "      <td>1</td>\n",
       "      <td>207106_exposure320</td>\n",
       "      <td>B02</td>\n",
       "      <td>PlateMap_207106_exposure320</td>\n",
       "      <td>WT</td>\n",
       "      <td>0.0</td>\n",
       "    </tr>\n",
       "    <tr>\n",
       "      <th>1</th>\n",
       "      <td>55321079170264086709741025581452256546</td>\n",
       "      <td>37</td>\n",
       "      <td>207106_exposure320</td>\n",
       "      <td>B02</td>\n",
       "      <td>PlateMap_207106_exposure320</td>\n",
       "      <td>WT</td>\n",
       "      <td>0.0</td>\n",
       "    </tr>\n",
       "    <tr>\n",
       "      <th>2</th>\n",
       "      <td>156575971115499494274828396611545171867</td>\n",
       "      <td>73</td>\n",
       "      <td>207106_exposure320</td>\n",
       "      <td>B02</td>\n",
       "      <td>PlateMap_207106_exposure320</td>\n",
       "      <td>WT</td>\n",
       "      <td>0.0</td>\n",
       "    </tr>\n",
       "    <tr>\n",
       "      <th>3</th>\n",
       "      <td>177833145266349265724759827001312244688</td>\n",
       "      <td>109</td>\n",
       "      <td>207106_exposure320</td>\n",
       "      <td>B02</td>\n",
       "      <td>PlateMap_207106_exposure320</td>\n",
       "      <td>WT</td>\n",
       "      <td>0.0</td>\n",
       "    </tr>\n",
       "    <tr>\n",
       "      <th>4</th>\n",
       "      <td>322613752142964989790892398074175721670</td>\n",
       "      <td>145</td>\n",
       "      <td>207106_exposure320</td>\n",
       "      <td>B02</td>\n",
       "      <td>PlateMap_207106_exposure320</td>\n",
       "      <td>WT</td>\n",
       "      <td>0.0</td>\n",
       "    </tr>\n",
       "  </tbody>\n",
       "</table>\n",
       "</div>"
      ],
      "text/plain": [
       "                               TableNumber  ImageNumber      Metadata_Plate  \\\n",
       "0   35063824554719371464203761079871132620            1  207106_exposure320   \n",
       "1   55321079170264086709741025581452256546           37  207106_exposure320   \n",
       "2  156575971115499494274828396611545171867           73  207106_exposure320   \n",
       "3  177833145266349265724759827001312244688          109  207106_exposure320   \n",
       "4  322613752142964989790892398074175721670          145  207106_exposure320   \n",
       "\n",
       "  Metadata_Well      Metadata_plate_map_name Metadata_CellLine  \\\n",
       "0           B02  PlateMap_207106_exposure320                WT   \n",
       "1           B02  PlateMap_207106_exposure320                WT   \n",
       "2           B02  PlateMap_207106_exposure320                WT   \n",
       "3           B02  PlateMap_207106_exposure320                WT   \n",
       "4           B02  PlateMap_207106_exposure320                WT   \n",
       "\n",
       "   Metadata_Dosage  \n",
       "0              0.0  \n",
       "1              0.0  \n",
       "2              0.0  \n",
       "3              0.0  \n",
       "4              0.0  "
      ]
     },
     "execution_count": 9,
     "metadata": {},
     "output_type": "execute_result"
    }
   ],
   "source": [
    "image_cols = f\"TableNumber, ImageNumber, {plate_column}, {well_column}\"\n",
    "image_query = f\"select {image_cols} from image\"\n",
    "image_df = (\n",
    "    pd.read_sql_query(image_query, conn)\n",
    "    .merge(\n",
    "        plate_map_df,\n",
    "        left_on=well_column,\n",
    "        right_on=\"Metadata_well_position\"\n",
    "    )\n",
    "    .drop([\"Metadata_well_position\"], axis=\"columns\")\n",
    ")\n",
    "\n",
    "print(image_df.shape)\n",
    "image_df.head()"
   ]
  },
  {
   "cell_type": "markdown",
   "metadata": {},
   "source": [
    "## Identify Representative Wells"
   ]
  },
  {
   "cell_type": "code",
   "execution_count": 10,
   "metadata": {},
   "outputs": [],
   "source": [
    "# Assert that image number is unique\n",
    "assert len(image_df.ImageNumber.unique()) == image_df.shape[0]"
   ]
  },
  {
   "cell_type": "code",
   "execution_count": 11,
   "metadata": {},
   "outputs": [
    {
     "data": {
      "text/plain": [
       "WT        108\n",
       "CloneE    108\n",
       "CloneA    108\n",
       "Name: Metadata_CellLine, dtype: int64"
      ]
     },
     "execution_count": 11,
     "metadata": {},
     "output_type": "execute_result"
    }
   ],
   "source": [
    "image_df.Metadata_CellLine.value_counts()"
   ]
  },
  {
   "cell_type": "code",
   "execution_count": 12,
   "metadata": {},
   "outputs": [
    {
     "data": {
      "text/plain": [
       "D09    9\n",
       "E10    9\n",
       "C09    9\n",
       "B10    9\n",
       "C07    9\n",
       "E07    9\n",
       "E06    9\n",
       "D07    9\n",
       "E04    9\n",
       "D04    9\n",
       "E09    9\n",
       "B03    9\n",
       "E02    9\n",
       "E03    9\n",
       "C02    9\n",
       "D02    9\n",
       "C05    9\n",
       "D08    9\n",
       "D06    9\n",
       "B08    9\n",
       "B05    9\n",
       "D05    9\n",
       "B04    9\n",
       "C03    9\n",
       "B07    9\n",
       "B09    9\n",
       "E05    9\n",
       "C06    9\n",
       "C08    9\n",
       "C10    9\n",
       "B02    9\n",
       "E08    9\n",
       "D10    9\n",
       "B06    9\n",
       "D03    9\n",
       "C04    9\n",
       "Name: Metadata_Well, dtype: int64"
      ]
     },
     "execution_count": 12,
     "metadata": {},
     "output_type": "execute_result"
    }
   ],
   "source": [
    "image_df.Metadata_Well.value_counts()"
   ]
  },
  {
   "cell_type": "code",
   "execution_count": 13,
   "metadata": {},
   "outputs": [
    {
     "name": "stdout",
     "output_type": "stream",
     "text": [
      "Clone E Well: ['B08' 'B09'] \n",
      "WT Well: ['B03' 'B02']\n"
     ]
    }
   ],
   "source": [
    "clone_e_wells = pd.np.random.choice(\n",
    "    (\n",
    "        image_df\n",
    "        .query(\"Metadata_CellLine == 'CloneE'\")\n",
    "        .query(\"Metadata_Dosage == 0\")\n",
    "    )\n",
    "    .Metadata_Well.unique(), size=2, replace=False\n",
    ")\n",
    "\n",
    "wt_wells = pd.np.random.choice(\n",
    "    (\n",
    "        image_df\n",
    "        .query(\"Metadata_CellLine == 'WT'\")\n",
    "        .query(\"Metadata_Dosage == 0\")\n",
    "    ).Metadata_Well.unique(), size=2, replace=False\n",
    ")\n",
    "\n",
    "print(f\"Clone E Well: {clone_e_wells}\", f\"\\nWT Well: {wt_wells}\")"
   ]
  },
  {
   "cell_type": "markdown",
   "metadata": {},
   "source": [
    "# Load Cells"
   ]
  },
  {
   "cell_type": "code",
   "execution_count": 14,
   "metadata": {},
   "outputs": [
    {
     "data": {
      "text/plain": [
       "{'clone_e': [7,\n",
       "  43,\n",
       "  79,\n",
       "  115,\n",
       "  151,\n",
       "  187,\n",
       "  223,\n",
       "  259,\n",
       "  295,\n",
       "  8,\n",
       "  44,\n",
       "  80,\n",
       "  116,\n",
       "  152,\n",
       "  188,\n",
       "  224,\n",
       "  260,\n",
       "  296],\n",
       " 'wt': [1,\n",
       "  37,\n",
       "  73,\n",
       "  109,\n",
       "  145,\n",
       "  181,\n",
       "  217,\n",
       "  253,\n",
       "  289,\n",
       "  2,\n",
       "  38,\n",
       "  74,\n",
       "  110,\n",
       "  146,\n",
       "  182,\n",
       "  218,\n",
       "  254,\n",
       "  290]}"
      ]
     },
     "execution_count": 14,
     "metadata": {},
     "output_type": "execute_result"
    }
   ],
   "source": [
    "imagenumber_dict = {}\n",
    "imagenumber_dict[\"clone_e\"] = image_df.query(\"Metadata_Well in @clone_e_wells\").ImageNumber.tolist()\n",
    "imagenumber_dict[\"wt\"] = image_df.query(\"Metadata_Well in @wt_wells\").ImageNumber.tolist()\n",
    "imagenumber_dict"
   ]
  },
  {
   "cell_type": "code",
   "execution_count": 15,
   "metadata": {},
   "outputs": [
    {
     "name": "stdout",
     "output_type": "stream",
     "text": [
      "Now processing clone: clone_e\n",
      "ImageNumber: 7\n",
      "ImageNumber: 43\n",
      "ImageNumber: 79\n",
      "ImageNumber: 115\n",
      "ImageNumber: 151\n",
      "ImageNumber: 187\n",
      "ImageNumber: 223\n",
      "ImageNumber: 259\n",
      "ImageNumber: 295\n",
      "ImageNumber: 8\n",
      "ImageNumber: 44\n",
      "ImageNumber: 80\n",
      "ImageNumber: 116\n",
      "ImageNumber: 152\n",
      "ImageNumber: 188\n",
      "ImageNumber: 224\n",
      "ImageNumber: 260\n",
      "ImageNumber: 296\n"
     ]
    },
    {
     "name": "stderr",
     "output_type": "stream",
     "text": [
      "/home/ubuntu/miniconda3/envs/resistance-mechanisms/lib/python3.7/site-packages/sklearn/preprocessing/data.py:645: DataConversionWarning: Data with input dtype int64, float64, object were all converted to float64 by StandardScaler.\n",
      "  return self.partial_fit(X, y)\n",
      "/home/ubuntu/miniconda3/envs/resistance-mechanisms/lib/python3.7/site-packages/sklearn/base.py:464: DataConversionWarning: Data with input dtype int64, float64, object were all converted to float64 by StandardScaler.\n",
      "  return self.fit(X, **fit_params).transform(X)\n",
      "/home/ubuntu/miniconda3/envs/resistance-mechanisms/lib/python3.7/site-packages/sklearn/preprocessing/data.py:645: DataConversionWarning: Data with input dtype int64, float64, object were all converted to float64 by StandardScaler.\n",
      "  return self.partial_fit(X, y)\n",
      "/home/ubuntu/miniconda3/envs/resistance-mechanisms/lib/python3.7/site-packages/sklearn/base.py:464: DataConversionWarning: Data with input dtype int64, float64, object were all converted to float64 by StandardScaler.\n",
      "  return self.fit(X, **fit_params).transform(X)\n"
     ]
    },
    {
     "name": "stdout",
     "output_type": "stream",
     "text": [
      "Now processing clone: wt\n",
      "ImageNumber: 1\n",
      "ImageNumber: 37\n",
      "ImageNumber: 73\n",
      "ImageNumber: 109\n",
      "ImageNumber: 145\n",
      "ImageNumber: 181\n",
      "ImageNumber: 217\n",
      "ImageNumber: 253\n",
      "ImageNumber: 289\n",
      "ImageNumber: 2\n",
      "ImageNumber: 38\n",
      "ImageNumber: 74\n",
      "ImageNumber: 110\n",
      "ImageNumber: 146\n",
      "ImageNumber: 182\n",
      "ImageNumber: 218\n",
      "ImageNumber: 254\n",
      "ImageNumber: 290\n"
     ]
    },
    {
     "name": "stderr",
     "output_type": "stream",
     "text": [
      "/home/ubuntu/miniconda3/envs/resistance-mechanisms/lib/python3.7/site-packages/sklearn/preprocessing/data.py:645: DataConversionWarning: Data with input dtype int64, float64, object were all converted to float64 by StandardScaler.\n",
      "  return self.partial_fit(X, y)\n",
      "/home/ubuntu/miniconda3/envs/resistance-mechanisms/lib/python3.7/site-packages/sklearn/base.py:464: DataConversionWarning: Data with input dtype int64, float64, object were all converted to float64 by StandardScaler.\n",
      "  return self.fit(X, **fit_params).transform(X)\n",
      "/home/ubuntu/miniconda3/envs/resistance-mechanisms/lib/python3.7/site-packages/sklearn/preprocessing/data.py:645: DataConversionWarning: Data with input dtype int64, float64, object were all converted to float64 by StandardScaler.\n",
      "  return self.partial_fit(X, y)\n",
      "/home/ubuntu/miniconda3/envs/resistance-mechanisms/lib/python3.7/site-packages/sklearn/base.py:464: DataConversionWarning: Data with input dtype int64, float64, object were all converted to float64 by StandardScaler.\n",
      "  return self.fit(X, **fit_params).transform(X)\n"
     ]
    }
   ],
   "source": [
    "train_df = {}\n",
    "test_df = {}\n",
    "for clone_type, clone_imagenumbers in imagenumber_dict.items():\n",
    "    print(f\"Now processing clone: {clone_type}\")\n",
    "    train_df[clone_type], test_df[clone_type] = process_sites(\n",
    "        connection=conn,\n",
    "        imagenumbers=clone_imagenumbers,\n",
    "        image_df=image_df,\n",
    "        feature_filter=feature_filter,\n",
    "        scaler_method=scaler_method,\n",
    "        seed=seed,\n",
    "        test_split_prop=test_split_prop,\n",
    "        normalize=True \n",
    "    )\n",
    "    \n",
    "# Output and shuffle rows from training and testing sets\n",
    "train_df = pd.concat(train_df).sample(frac=1).reset_index(drop=True)\n",
    "test_df = pd.concat(test_df).sample(frac=1).reset_index(drop=True)"
   ]
  },
  {
   "cell_type": "markdown",
   "metadata": {},
   "source": [
    "## Apply Feature Selection"
   ]
  },
  {
   "cell_type": "code",
   "execution_count": 16,
   "metadata": {},
   "outputs": [
    {
     "name": "stdout",
     "output_type": "stream",
     "text": [
      "(30468, 3422)\n",
      "(5395, 3422)\n"
     ]
    }
   ],
   "source": [
    "# Original shapes\n",
    "print(train_df.shape)\n",
    "print(test_df.shape)"
   ]
  },
  {
   "cell_type": "code",
   "execution_count": 17,
   "metadata": {},
   "outputs": [
    {
     "data": {
      "text/plain": [
       "['Metadata_TableNumber',\n",
       " 'Metadata_ImageNumber',\n",
       " 'Metadata_Plate',\n",
       " 'Metadata_Well',\n",
       " 'Metadata_plate_map_name',\n",
       " 'Metadata_CellLine',\n",
       " 'Metadata_Dosage']"
      ]
     },
     "execution_count": 17,
     "metadata": {},
     "output_type": "execute_result"
    }
   ],
   "source": [
    "meta_features = infer_cp_features(train_df, metadata=True)\n",
    "meta_features"
   ]
  },
  {
   "cell_type": "code",
   "execution_count": 18,
   "metadata": {},
   "outputs": [],
   "source": [
    "train_df = feature_select(\n",
    "    train_df,\n",
    "    operation=feature_select_opts,\n",
    "    na_cutoff=na_cutoff,\n",
    "    corr_threshold=corr_threshold\n",
    ")\n",
    "\n",
    "selected_features = infer_cp_features(train_df)\n",
    "reindex_features = meta_features + selected_features\n",
    "\n",
    "test_df = test_df.reindex(reindex_features, axis=\"columns\")\n",
    "train_df = train_df.reindex(reindex_features, axis=\"columns\")"
   ]
  },
  {
   "cell_type": "code",
   "execution_count": 19,
   "metadata": {},
   "outputs": [
    {
     "name": "stdout",
     "output_type": "stream",
     "text": [
      "(30468, 1319)\n",
      "(5395, 1319)\n"
     ]
    }
   ],
   "source": [
    "# Shapes after feature selection\n",
    "print(train_df.shape)\n",
    "print(test_df.shape)"
   ]
  },
  {
   "cell_type": "markdown",
   "metadata": {},
   "source": [
    "## Output Files"
   ]
  },
  {
   "cell_type": "code",
   "execution_count": 20,
   "metadata": {},
   "outputs": [],
   "source": [
    "out_file = pathlib.Path(\"data\", \"example_train.tsv.gz\")\n",
    "train_df.to_csv(out_file, sep=\"\\t\", compression=\"gzip\", index=False)\n",
    "\n",
    "out_file = pathlib.Path(\"data\", \"example_test.tsv.gz\")\n",
    "test_df.to_csv(out_file, sep=\"\\t\", compression=\"gzip\", index=False)"
   ]
  }
 ],
 "metadata": {
  "kernelspec": {
   "display_name": "Python 3",
   "language": "python",
   "name": "python3"
  },
  "language_info": {
   "codemirror_mode": {
    "name": "ipython",
    "version": 3
   },
   "file_extension": ".py",
   "mimetype": "text/x-python",
   "name": "python",
   "nbconvert_exporter": "python",
   "pygments_lexer": "ipython3",
   "version": "3.7.1"
  }
 },
 "nbformat": 4,
 "nbformat_minor": 4
}
