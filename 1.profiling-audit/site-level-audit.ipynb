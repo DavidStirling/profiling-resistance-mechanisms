{
 "cells": [
  {
   "cell_type": "markdown",
   "metadata": {},
   "source": [
    "# Visualizing Replicate Correlation of Site-Level Profiles\n",
    "\n",
    "A major question in the decision to split out profiles to site-level instead of well-level, is to determine if there are any extreme biases introduced.\n",
    "\n",
    "Visualize site-level profile replicate correlation in FIVE categories:\n",
    "\n",
    "1. Replicate Correlation in **Same Well**\n",
    "2. Replicate Correlation in **Different Well** in **Same Site** position\n",
    "3. Replicate Correlation in **Different Well** in **Different Site** position\n",
    "4. Non-replicate Correlation in **Different Well** in **Same Site** position\n",
    "5. Non-replicate Correlation in **Different Well** in **Different Site** position \n",
    "\n",
    "If we see differences in the same/different site comparisons, then it is likely that the site is providing significant technical biases."
   ]
  },
  {
   "cell_type": "code",
   "execution_count": 1,
   "metadata": {},
   "outputs": [],
   "source": [
    "import os\n",
    "import yaml\n",
    "import numpy as np\n",
    "import pandas as pd\n",
    "import plotnine as gg\n",
    "\n",
    "from pycytominer import audit\n",
    "\n",
    "from scripts.viz_utils import save_figure"
   ]
  },
  {
   "cell_type": "code",
   "execution_count": 2,
   "metadata": {},
   "outputs": [],
   "source": [
    "%matplotlib inline"
   ]
  },
  {
   "cell_type": "code",
   "execution_count": 3,
   "metadata": {},
   "outputs": [],
   "source": [
    "def audit_site(df, audit_cols, batch, plate, resolution=\"full\"):\n",
    "    \n",
    "    audit_title = \"{}: {}\".format(batch, plate)\n",
    "\n",
    "    site_df = audit(\n",
    "        df,\n",
    "        audit_groups=audit_cols,\n",
    "        audit_resolution=resolution\n",
    "    )\n",
    "    \n",
    "    same_well = site_df.Metadata_Well_pair_a == site_df.Metadata_Well_pair_b\n",
    "    same_site = site_df.Metadata_Site_pair_a == site_df.Metadata_Site_pair_b\n",
    "    same_plate = site_df.Metadata_Plate_pair_a == site_df.Metadata_Plate_pair_b\n",
    "    \n",
    "    if \"Metadata_clone_number\" in audit_cols:\n",
    "        same_clone = site_df.Metadata_clone_number_pair_a == site_df.Metadata_clone_number_pair_b\n",
    "        if \"Metadata_treatment\" in audit_cols:\n",
    "            same_treatment = site_df.Metadata_treatment_pair_a == site_df.Metadata_treatment_pair_b\n",
    "        else:\n",
    "            same_treatment = same_clone\n",
    "    else:\n",
    "        same_treatment = site_df.Metadata_Dosage_pair_a == site_df.Metadata_Dosage_pair_b\n",
    "        same_clone = site_df.Metadata_CellLine_pair_a == site_df.Metadata_CellLine_pair_b\n",
    "    \n",
    "    replicate = same_treatment & same_clone\n",
    "    same_well_diff_site = (\n",
    "        same_well & ~same_site\n",
    "    )\n",
    "\n",
    "    same_treatment_diff_well = (\n",
    "        replicate & ~same_well\n",
    "    )\n",
    "\n",
    "    diff_treatment_diff_well = (\n",
    "        ~replicate & ~same_well\n",
    "    )\n",
    "\n",
    "    diff_treatment_diff_site = (\n",
    "        ~replicate & ~same_site\n",
    "    )\n",
    "    \n",
    "    plot_ready_df = site_df.assign(\n",
    "        replicate=replicate,\n",
    "        same_site=same_site,\n",
    "        same_well_diff_site=same_well_diff_site,\n",
    "        same_treatment_diff_well=same_treatment_diff_well,\n",
    "        diff_treatment_diff_well=diff_treatment_diff_well,\n",
    "        diff_treatment_diff_site=diff_treatment_diff_site\n",
    "    )\n",
    "    \n",
    "    plot_ready_df.pairwise_correlation = plot_ready_df.pairwise_correlation.astype(float)\n",
    "\n",
    "    plot_ready_df.same_well_diff_site = (\n",
    "        plot_ready_df\n",
    "        .same_well_diff_site\n",
    "        .replace(\n",
    "            {\n",
    "                True: \"Same Well\",\n",
    "                False: \"Different Well\"\n",
    "            }\n",
    "        )\n",
    "    )\n",
    "    \n",
    "    plot_ready_df.same_site = (\n",
    "        plot_ready_df\n",
    "        .same_site\n",
    "        .replace(\n",
    "            {\n",
    "                True: \"Same Site\",\n",
    "                False: \"Different Site\"\n",
    "            }\n",
    "        )\n",
    "    )\n",
    "    \n",
    "    site_audit_gg = (\n",
    "        gg.ggplot(plot_ready_df, gg.aes(x=\"pairwise_correlation\")) + \\\n",
    "            gg.geom_density(gg.aes(fill=\"replicate\"), alpha=0.5) +\n",
    "            gg.theme_bw() + \\\n",
    "            gg.facet_grid(\"same_well_diff_site~same_site\") +\n",
    "            gg.ggtitle(audit_title) +\n",
    "            gg.xlab(\"Pairwise Pearson Correlation\") +\n",
    "            gg.ylab(\"Density\") +\n",
    "            gg.theme(\n",
    "                strip_background=gg.element_rect(colour=\"black\", fill=\"#fdfff4\")\n",
    "            )\n",
    "    )\n",
    "    \n",
    "    return site_audit_gg"
   ]
  },
  {
   "cell_type": "code",
   "execution_count": 4,
   "metadata": {},
   "outputs": [],
   "source": [
    "profile_dir = os.path.join(\"..\", \"0.generate-profiles\", \"profiles\")\n",
    "config = \"audit_config.yaml\"\n",
    "output_file_extensions=[\".png\"]"
   ]
  },
  {
   "cell_type": "code",
   "execution_count": 5,
   "metadata": {},
   "outputs": [],
   "source": [
    "audit_config = {}\n",
    "stream = open(config, \"r\")\n",
    "for data in yaml.load_all(stream, Loader=yaml.FullLoader):\n",
    "    batch = data[\"batch\"]\n",
    "    audit_level = data[\"auditlevel\"]\n",
    "    plates = [str(x) for x in data[\"plates\"]]\n",
    "    audit_config[batch] = {}\n",
    "    audit_config[batch][\"plates\"] = plates\n",
    "    audit_config[batch][\"auditcols\"] = data[\"auditcols\"]\n",
    "    audit_config[batch][\"process\"] = data[\"process\"]\n",
    "    audit_config[batch][\"plate_files\"] = {\n",
    "        x: os.path.join(profile_dir, batch, x, \"{}_{}.csv.gz\".format(x, audit_level))\n",
    "        for x in plates\n",
    "    }"
   ]
  },
  {
   "cell_type": "code",
   "execution_count": 6,
   "metadata": {},
   "outputs": [],
   "source": [
    "general_audit_cols = [\"Metadata_Well\", \"Metadata_Site\", \"Metadata_Plate\"]"
   ]
  },
  {
   "cell_type": "code",
   "execution_count": 7,
   "metadata": {},
   "outputs": [
    {
     "name": "stdout",
     "output_type": "stream",
     "text": [
      "Now auditing... Batch: 2019_06_25_Batch3; Plate: WTClones\n"
     ]
    },
    {
     "name": "stderr",
     "output_type": "stream",
     "text": [
      "/Users/gway/miniconda3/envs/resistance-mechanisms/lib/python3.7/site-packages/plotnine/utils.py:629: FutureWarning: Sorting because non-concatenation axis is not aligned. A future version\n",
      "of pandas will change to not sort by default.\n",
      "\n",
      "To accept the future behavior, pass 'sort=False'.\n",
      "\n",
      "To retain the current behavior and silence the warning, pass 'sort=True'.\n",
      "\n",
      "  return pd.concat(lst, axis=axis, ignore_index=True)\n"
     ]
    },
    {
     "name": "stdout",
     "output_type": "stream",
     "text": [
      "Now auditing... Batch: 2019_06_25_Batch3; Plate: MutClones\n"
     ]
    },
    {
     "name": "stderr",
     "output_type": "stream",
     "text": [
      "/Users/gway/miniconda3/envs/resistance-mechanisms/lib/python3.7/site-packages/plotnine/utils.py:629: FutureWarning: Sorting because non-concatenation axis is not aligned. A future version\n",
      "of pandas will change to not sort by default.\n",
      "\n",
      "To accept the future behavior, pass 'sort=False'.\n",
      "\n",
      "To retain the current behavior and silence the warning, pass 'sort=True'.\n",
      "\n",
      "  return pd.concat(lst, axis=axis, ignore_index=True)\n"
     ]
    }
   ],
   "source": [
    "for batch in audit_config:\n",
    "    batch_dict = audit_config[batch]\n",
    "    process = batch_dict[\"process\"]\n",
    "    if not process:\n",
    "        continue\n",
    "    audit_cols = batch_dict[\"auditcols\"]\n",
    "    site_audit_cols = audit_cols + general_audit_cols\n",
    "    plate_files = batch_dict[\"plate_files\"]\n",
    "    plates = batch_dict[\"plates\"]\n",
    "    for plate in plates:\n",
    "        figure_dir = os.path.join(\"figures\", batch, plate)\n",
    "        output_file = os.path.join(\n",
    "            figure_dir, \"{}_{}_site_correlation\".format(batch, plate)\n",
    "        )\n",
    "        print(\"Now auditing... Batch: {}; Plate: {}\".format(batch, plate))\n",
    "        df = pd.read_csv(plate_files[plate])\n",
    "        audit_gg = audit_site(df, site_audit_cols, batch, plate)\n",
    "\n",
    "        save_figure(\n",
    "            audit_gg,\n",
    "            output_file,\n",
    "            dpi=300,\n",
    "            height=3,\n",
    "            width=4,\n",
    "            extensions=output_file_extensions,\n",
    "        )"
   ]
  }
 ],
 "metadata": {
  "kernelspec": {
   "display_name": "Python 3",
   "language": "python",
   "name": "python3"
  },
  "language_info": {
   "codemirror_mode": {
    "name": "ipython",
    "version": 3
   },
   "file_extension": ".py",
   "mimetype": "text/x-python",
   "name": "python",
   "nbconvert_exporter": "python",
   "pygments_lexer": "ipython3",
   "version": "3.7.1"
  }
 },
 "nbformat": 4,
 "nbformat_minor": 4
}
